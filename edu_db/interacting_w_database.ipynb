{
 "cells": [
  {
   "cell_type": "code",
   "execution_count": 2,
   "metadata": {},
   "outputs": [],
   "source": [
    "import pymysql"
   ]
  },
  {
   "cell_type": "code",
   "execution_count": 20,
   "metadata": {},
   "outputs": [],
   "source": [
    "db_settings = { \"host\": \"140.83.85.111\",\n",
    "                \"port\": 3306,\n",
    "                \"user\": \"admin\",\n",
    "                \"password\": \"@050610AIoT\",\n",
    "                \"db\": \"test_database\",\n",
    "                \"charset\": \"utf8\"}\n",
    "conn = pymysql.connect(**db_settings)"
   ]
  },
  {
   "cell_type": "code",
   "execution_count": 6,
   "metadata": {},
   "outputs": [],
   "source": [
    "db_settings = { \"host\": \"localhost\",\n",
    "                \"port\": 3306,\n",
    "                \"user\": \"root\",\n",
    "                \"password\": \"pisces900221\",\n",
    "                \"db\": \"PeopleFlowDB\",\n",
    "                \"charset\": \"utf8\"}\n",
    "conn = pymysql.connect(**db_settings)"
   ]
  },
  {
   "cell_type": "code",
   "execution_count": 26,
   "metadata": {},
   "outputs": [
    {
     "name": "stdout",
     "output_type": "stream",
     "text": [
      "(datetime.datetime(2022, 7, 3, 18, 30), 50, 60, 30, 40)\n"
     ]
    }
   ],
   "source": [
    "# cursor = conn.cursor()\n",
    "# cursor.execute('SELECT * FROM Stadium;')\n",
    "\n",
    "try:\n",
    "    with conn.cursor() as cursor:\n",
    "\n",
    "        # command = \"SELECT * FROM \"+ test_table + \";\"\n",
    "        cursor.execute(\"SELECT * FROM Stadium;\")\n",
    "        result = cursor.fetchone()\n",
    "        print(result)\n",
    "except Exception as ex:\n",
    "    print(ex)"
   ]
  },
  {
   "cell_type": "code",
   "execution_count": null,
   "metadata": {},
   "outputs": [],
   "source": [
    "import mysql.connector\n",
    "\n",
    "connection = mysql.connector.connect(\n",
    "    host='',          # 主機名稱\n",
    "    database='officeguide_db', # 資料庫名稱\n",
    "    user='officeguide',        # 帳號\n",
    "    password='your_password')  # 密碼"
   ]
  }
 ],
 "metadata": {
  "kernelspec": {
   "display_name": "Python 3.7.0 ('rasa')",
   "language": "python",
   "name": "python3"
  },
  "language_info": {
   "codemirror_mode": {
    "name": "ipython",
    "version": 3
   },
   "file_extension": ".py",
   "mimetype": "text/x-python",
   "name": "python",
   "nbconvert_exporter": "python",
   "pygments_lexer": "ipython3",
   "version": "3.7.0"
  },
  "orig_nbformat": 4,
  "vscode": {
   "interpreter": {
    "hash": "465d70def9c609a97a4501874f04ebfc8b544d0eb2a3a59df9ecc33a3d4228cf"
   }
  }
 },
 "nbformat": 4,
 "nbformat_minor": 2
}
