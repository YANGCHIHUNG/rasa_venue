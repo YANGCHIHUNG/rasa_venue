{
 "cells": [
  {
   "cell_type": "code",
   "execution_count": 1,
   "metadata": {},
   "outputs": [],
   "source": [
    "import pymssql"
   ]
  },
  {
   "cell_type": "code",
   "execution_count": 22,
   "metadata": {},
   "outputs": [],
   "source": [
    "conn = pymssql.connect(\n",
    "    host='localhost',\n",
    "    user='young',\n",
    "    password='young',\n",
    "    database='BookingDB',\n",
    "    charset='big5'\n",
    ")"
   ]
  },
  {
   "cell_type": "code",
   "execution_count": 23,
   "metadata": {},
   "outputs": [
    {
     "name": "stdout",
     "output_type": "stream",
     "text": [
      " 台北店, 90938393\n",
      " 桃園店, 48924783\n",
      " 台中店, 37489327\n"
     ]
    }
   ],
   "source": [
    "cursor = conn.cursor(as_dict=True)\n",
    "cursor.execute('SELECT * FROM [BookingDB].[dbo].[Restaurant]')\n",
    "\n",
    "for row in cursor:\n",
    "    print(' %s, %s' % (row['rName'], row['rPhone']))"
   ]
  },
  {
   "cell_type": "code",
   "execution_count": null,
   "metadata": {},
   "outputs": [],
   "source": []
  }
 ],
 "metadata": {
  "kernelspec": {
   "display_name": "Python 3.7.0 ('rasa')",
   "language": "python",
   "name": "python3"
  },
  "language_info": {
   "codemirror_mode": {
    "name": "ipython",
    "version": 3
   },
   "file_extension": ".py",
   "mimetype": "text/x-python",
   "name": "python",
   "nbconvert_exporter": "python",
   "pygments_lexer": "ipython3",
   "version": "3.7.0"
  },
  "orig_nbformat": 4,
  "vscode": {
   "interpreter": {
    "hash": "465d70def9c609a97a4501874f04ebfc8b544d0eb2a3a59df9ecc33a3d4228cf"
   }
  }
 },
 "nbformat": 4,
 "nbformat_minor": 2
}
